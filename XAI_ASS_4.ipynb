{
  "nbformat": 4,
  "nbformat_minor": 0,
  "metadata": {
    "colab": {
      "provenance": [],
      "include_colab_link": true
    },
    "kernelspec": {
      "name": "python3",
      "display_name": "Python 3"
    },
    "language_info": {
      "name": "python"
    }
  },
  "cells": [
    {
      "cell_type": "markdown",
      "metadata": {
        "id": "view-in-github",
        "colab_type": "text"
      },
      "source": [
        "<a href=\"https://colab.research.google.com/github/2303a52163/AIML_2303a52163/blob/main/XAI_ASS_4.ipynb\" target=\"_parent\"><img src=\"https://colab.research.google.com/assets/colab-badge.svg\" alt=\"Open In Colab\"/></a>"
      ]
    },
    {
      "cell_type": "markdown",
      "source": [
        "#XAI ASSIGNMENT-4\n",
        "\n",
        "2303A52183\n",
        "\n",
        "BATCH:34"
      ],
      "metadata": {
        "id": "TWaxcs_8-r7S"
      }
    },
    {
      "cell_type": "markdown",
      "source": [
        "**Assignment Number: 04\n",
        "\n",
        "Q. No. Question Expected Time\n",
        "to complete\n",
        "1 Wine Quality (Multiclass Classification)\n",
        "\n",
        "\n",
        " Objectives:\n",
        "\n",
        " Apply Permutation Importance to assess the role of chemical features.\n",
        " Use SHAP to explain wine class predictions globally and locally.\n",
        " Use LIME to interpret why specific wines are classified as type X or Y.\n",
        " Compare method agreement.\n",
        "\n",
        " Assignment Details:\n",
        "\n",
        " Goal: Identify chemical properties that distinguish different wines.\n",
        " Data: sklearn.datasets.load_wine()\n",
        " Model: LogisticRegression (multi-class, standardized)\n",
        "**"
      ],
      "metadata": {
        "id": "Jo0ICrV--_SN"
      }
    },
    {
      "cell_type": "code",
      "source": [
        "!pip install lime\n",
        "\n",
        "import numpy as np\n",
        "import pandas as pd\n",
        "import matplotlib.pyplot as plt\n",
        "from sklearn.datasets import load_wine\n",
        "from sklearn.linear_model import LogisticRegression\n",
        "from sklearn.model_selection import train_test_split\n",
        "from sklearn.preprocessing import StandardScaler\n",
        "from sklearn.inspection import permutation_importance\n",
        "import shap\n",
        "import lime\n",
        "import lime.lime_tabular\n",
        "\n",
        "wine = load_wine()\n",
        "X = pd.DataFrame(wine.data, columns=wine.feature_names)\n",
        "y = wine.target\n",
        "\n",
        "X_train, X_test, y_train, y_test = train_test_split(X, y, test_size=0.2, random_state=42, stratify=y)\n",
        "\n",
        "scaler = StandardScaler()\n",
        "X_train_scaled = scaler.fit_transform(X_train)\n",
        "X_test_scaled = scaler.transform(X_test)\n",
        "\n",
        "model = LogisticRegression(max_iter=500, multi_class='multinomial', solver='lbfgs', random_state=42)\n",
        "model.fit(X_train_scaled, y_train)\n",
        "print(\"Model Accuracy on Test Set:\", model.score(X_test_scaled, y_test))\n",
        "\n",
        "perm_importance = permutation_importance(model, X_test_scaled, y_test, n_repeats=10, random_state=42)\n",
        "sorted_idx = perm_importance.importances_mean.argsort()\n",
        "plt.figure(figsize=(10,6))\n",
        "plt.barh(np.array(wine.feature_names)[sorted_idx], perm_importance.importances_mean[sorted_idx])\n",
        "plt.xlabel(\"Permutation Importance\")\n",
        "plt.title(\"Permutation Importance (Wine Features)\")\n",
        "plt.show()\n",
        "\n",
        "explainer = shap.LinearExplainer(model, X_train_scaled, feature_names=wine.feature_names)\n",
        "shap_values = explainer(X_test_scaled)\n",
        "shap.summary_plot(shap_values, X_test, feature_names=wine.feature_names)\n",
        "\n",
        "sample_idx = 0\n",
        "shap.initjs()\n",
        "shap.force_plot(\n",
        "    explainer.expected_value[0],\n",
        "    shap_values[sample_idx].values[:, 0],\n",
        "    X_test.iloc[sample_idx, :],\n",
        "    feature_names=wine.feature_names\n",
        ")\n",
        "\n",
        "lime_explainer = lime.lime_tabular.LimeTabularExplainer(\n",
        "    training_data=np.array(X_train_scaled),\n",
        "    feature_names=wine.feature_names,\n",
        "    class_names=wine.target_names,\n",
        "    mode='classification'\n",
        ")\n",
        "\n",
        "for i in [0, 1]:\n",
        "    exp = lime_explainer.explain_instance(X_test_scaled[i], model.predict_proba, num_features=5)\n",
        "    print(f\"\\nLIME explanation for sample {i} (True Class: {wine.target_names[y_test[i]]})\")\n",
        "    exp.show_in_notebook(show_table=True)\n"
      ],
      "metadata": {
        "colab": {
          "base_uri": "https://localhost:8080/"
        },
        "id": "X3hlYwMmA8GN",
        "outputId": "7eb6e59c-ad50-4239-d42e-b1f660d38201"
      },
      "execution_count": null,
      "outputs": [
        {
          "output_type": "stream",
          "name": "stdout",
          "text": [
            "Collecting lime\n",
            "  Downloading lime-0.2.0.1.tar.gz (275 kB)\n",
            "\u001b[2K     \u001b[90m━━━━━━━━━━━━━━━━━━━━━━━━━━━━━━━━━━━━━━━\u001b[0m \u001b[32m275.7/275.7 kB\u001b[0m \u001b[31m3.4 MB/s\u001b[0m eta \u001b[36m0:00:00\u001b[0m\n",
            "\u001b[?25h"
          ]
        }
      ]
    }
  ]
}