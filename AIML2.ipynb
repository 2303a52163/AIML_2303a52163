{
  "nbformat": 4,
  "nbformat_minor": 0,
  "metadata": {
    "colab": {
      "provenance": [],
      "authorship_tag": "ABX9TyMdtzEmExahQvlAFro+l766",
      "include_colab_link": true
    },
    "kernelspec": {
      "name": "python3",
      "display_name": "Python 3"
    },
    "language_info": {
      "name": "python"
    }
  },
  "cells": [
    {
      "cell_type": "markdown",
      "metadata": {
        "id": "view-in-github",
        "colab_type": "text"
      },
      "source": [
        "<a href=\"https://colab.research.google.com/github/2303a52163/AIML_2303a52163/blob/main/AIML2.ipynb\" target=\"_parent\"><img src=\"https://colab.research.google.com/assets/colab-badge.svg\" alt=\"Open In Colab\"/></a>"
      ]
    },
    {
      "cell_type": "markdown",
      "source": [
        "Part 1 – Implement Breadth First Search Algorithm using a Queue\n",
        "\n",
        "1.Given a graph with adjacency list and a starting vertex and we have to traverse the graph.\n",
        "\n",
        "2.We will first print the value in the starting vertex,\n",
        "\n",
        "3.Continue to print the value of neighbors of the starting vertex and\n",
        "\n",
        "4.Next move on to the next level after completing the current level till all the vertices of the graph are printed."
      ],
      "metadata": {
        "id": "mB0cy9FEEMnL"
      }
    },
    {
      "cell_type": "code",
      "source": [
        "from queue import Queue\n",
        "graph={0:[1, 3],1:[0, 2, 3],2:[1,4,5],3:[0,1,4],4:[2,3,5],5:[2,4]}\n",
        "print(\"The adjacency List respresenting the graph is;\")\n",
        "print(graph)"
      ],
      "metadata": {
        "colab": {
          "base_uri": "https://localhost:8080/"
        },
        "id": "UTn0-zdfESzr",
        "outputId": "4448f27e-5311-4e43-e47e-4a428993e8b0"
      },
      "execution_count": 2,
      "outputs": [
        {
          "output_type": "stream",
          "name": "stdout",
          "text": [
            "The adjacency List respresenting the graph is;\n",
            "{0: [1, 3], 1: [0, 2, 3], 2: [1, 4, 5], 3: [0, 1, 4], 4: [2, 3, 5], 5: [2, 4]}\n"
          ]
        }
      ]
    },
    {
      "cell_type": "code",
      "source": [
        "def bfs(graph, source):\n",
        "    Q = Queue()\n",
        "    visited_vertices = set()\n",
        "    Q.put(source)\n",
        "    visited_vertices.update({0})\n",
        "    while not Q.empty():\n",
        "      vertex = Q.get()\n",
        "      print(vertex,end= \"-->\")\n",
        "      for u in graph[vertex]:\n",
        "        if u not in visited_vertices:\n",
        "          Q.put(u)\n",
        "          visited_vertices.update({u})\n",
        "print(\"BFS traversal of graph with source.0 is\")\n",
        "bfs(graph,0)"
      ],
      "metadata": {
        "colab": {
          "base_uri": "https://localhost:8080/"
        },
        "id": "kpkElyhYHH8-",
        "outputId": "50485d44-acfe-4ad3-ce75-52d86e64af43"
      },
      "execution_count": 4,
      "outputs": [
        {
          "output_type": "stream",
          "name": "stdout",
          "text": [
            "BFS traversal of graph with source.0 is\n",
            "0-->1-->3-->2-->4-->5-->"
          ]
        }
      ]
    }
  ]
}